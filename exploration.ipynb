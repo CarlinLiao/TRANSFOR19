{
 "cells": [
  {
   "cell_type": "code",
   "execution_count": null,
   "metadata": {},
   "outputs": [],
   "source": [
    "import json"
   ]
  },
  {
   "cell_type": "markdown",
   "metadata": {},
   "source": [
    "# Initial Data Processing\n",
    "\n",
    "`gps_20161201` has a lot of redundant information that makes it very large uncompressed. Let's make it more concise."
   ]
  },
  {
   "cell_type": "code",
   "execution_count": null,
   "metadata": {},
   "outputs": [
    {
     "name": "stdout",
     "output_type": "stream",
     "text": [
      "Header:  ['driver_id', 'order_id', 'timestamp', 'longitude', 'latitude\\n']\n",
      "Unique orders:  111541\n"
     ]
    }
   ],
   "source": [
    "# process datafile into nicer, more concise format\n",
    "with open('gps_20161201') as f:\n",
    "    i = 0\n",
    "    order_ids = {}\n",
    "    data = {}\n",
    "    print('Header: ', f.readline().split(',')) # skip header row\n",
    "    \n",
    "    l = f.readline()\n",
    "    while l:\n",
    "        l = l.split(',')\n",
    "        \n",
    "        # encode long order_ids as shorter indices\n",
    "        if l[1] not in order_ids:\n",
    "            order_ids[l[1]] = i\n",
    "            i += 1\n",
    "        \n",
    "        row = {\n",
    "                't': int(l[2]),\n",
    "                'lon': float(l[3]),\n",
    "                'lat': float(l[4])\n",
    "        }\n",
    "        \n",
    "        if order_ids[l[1]] not in data:\n",
    "            data[order_ids[l[1]]] = [row]\n",
    "        else:\n",
    "            data[order_ids[l[1]]].append(row)\n",
    "        l = f.readline()\n",
    "\n",
    "del order_ids\n",
    "print('Unique orders: ', len(data))\n",
    "\n",
    "# save processed data to file\n",
    "with open('gps_20161201_mod.json', 'w') as f:\n",
    "    f.write(json.dumps(data))    "
   ]
  },
  {
   "cell_type": "code",
   "execution_count": null,
   "metadata": {},
   "outputs": [],
   "source": [
    "# data = json.loads('gps_20161201_mod.json')[0]"
   ]
  },
  {
   "cell_type": "markdown",
   "metadata": {},
   "source": [
    "# Checking Timestamp and Lat/Long distribution"
   ]
  },
  {
   "cell_type": "code",
   "execution_count": null,
   "metadata": {},
   "outputs": [],
   "source": [
    "ts = []\n",
    "lat_range = [data[0][0]['lat'], data[0][0]['lat']]\n",
    "lon_range = [data[0][0]['lon'], data[0][0]['lon']]\n",
    "\n",
    "for _,order in data.items():\n",
    "    for p in order:\n",
    "        \n",
    "        # track ts for histogram making\n",
    "        ts.append(p['t'])\n",
    "        \n",
    "        if p['lat'] < lat_range[0]:\n",
    "            lat_range[0] = p['lat']\n",
    "        if p['lat'] > lat_range[1]:\n",
    "            lat_range[1] = p['lat']\n",
    "        \n",
    "        if p['lon'] < lon_range[0]:\n",
    "            lon_range[0] = p['lon']\n",
    "        if p['lon'] > lon_range[1]:\n",
    "            lon_range[1] = p['lon']\n",
    "\n",
    "print(lat_range)\n",
    "print(lon_range)"
   ]
  },
  {
   "cell_type": "markdown",
   "metadata": {},
   "source": [
    "Latitude and longitude range looks reasonable. What about timestamps?"
   ]
  },
  {
   "cell_type": "code",
   "execution_count": null,
   "metadata": {},
   "outputs": [],
   "source": [
    "from datetime import datetime\n",
    "print(datetime.utcfromtimestamp(min(ts)))\n",
    "print(datetime.utcfromtimestamp(max(ts)))"
   ]
  },
  {
   "cell_type": "markdown",
   "metadata": {},
   "source": [
    "Interesting. The data's from 11/30 4 PM to 12/1 4 PM, while we're supposed to predict 12/1 12 AM to 12/2 12 AM."
   ]
  },
  {
   "cell_type": "code",
   "execution_count": null,
   "metadata": {},
   "outputs": [],
   "source": [
    "import matplotlib.pyplot as plt\n",
    "\n",
    "plt.hist(ts,bins=48)\n",
    "del ts\n",
    "plt.gcf().autofmt_xdate()\n",
    "plt.show()"
   ]
  },
  {
   "cell_type": "markdown",
   "metadata": {},
   "source": [
    "And we only have a little data from before 12/1 12 AM.\n",
    "\n",
    "# Geospatial distribution\n",
    "\n",
    "Let's check where all of our points land."
   ]
  },
  {
   "cell_type": "code",
   "execution_count": null,
   "metadata": {},
   "outputs": [],
   "source": [
    "from pyproj import Proj, transform\n",
    "fig, ax = plt.subplots()\n",
    "\n",
    "i = 0\n",
    "for _,order in data.items():\n",
    "    for pt in order:\n",
    "        i += 1\n",
    "        if i % 10_000 == 0:\n",
    "            cr = transform(Proj(init='epsg:4326'), Proj(init='epsg:3857'), pt['lon'], pt['lat'])\n",
    "            ax.plot(cr[0], cr[1], marker='o', markersize='.1', color='red')\n",
    "\n",
    "plt.axis('off')\n",
    "plt.show()"
   ]
  },
  {
   "cell_type": "code",
   "execution_count": null,
   "metadata": {},
   "outputs": [],
   "source": [
    "from bokeh.plotting import figure, show\n",
    "from bokeh.tile_providers import CARTODBPOSITRON, STAMEN_TERRAIN, STAMEN_TONER_BACKGROUND\n",
    "from bokeh.models import ColumnDataSource\n",
    "from bokeh.io import output_notebook\n",
    "\n",
    "output_notebook()\n",
    "\n",
    "# find lat/long edges of given data\n",
    "bl = transform(Proj(init='epsg:4326'), Proj(init='epsg:3857'), lon_range[0], lat_range[0])\n",
    "ur = transform(Proj(init='epsg:4326'), Proj(init='epsg:3857'), lon_range[1], lat_range[1])\n",
    "\n",
    "# range bounds supplied in web mercator coordinates\n",
    "p = figure(x_range = (bl[0], ur[0]),\n",
    "           y_range = (bl[1], ur[1]),\n",
    "           x_axis_type=\"mercator\",\n",
    "           y_axis_type=\"mercator\")\n",
    "p.add_tile(STAMEN_TONER_BACKGROUND)\n",
    "\n",
    "# build points\n",
    "pts = {\n",
    "    'y': [],\n",
    "    'x': []\n",
    "}\n",
    "i = 0\n",
    "for _,order in data.items():\n",
    "    for pt in order:\n",
    "        i += 1\n",
    "        if i % 1_000 == 0:\n",
    "            cr = transform(Proj(init='epsg:4326'), Proj(init='epsg:3857'), pt['lon'], pt['lat'])\n",
    "            pts['y'].append(cr[1])\n",
    "            pts['x'].append(cr[0])\n",
    "        if i == 10_000:\n",
    "            print(pt['lat'], pt['lon'])\n",
    "            print(cr)\n",
    "\n",
    "# plot points\n",
    "p.circle(x=\"x\", y=\"y\", size=1, fill_color=\"red\", fill_alpha=1, line_width=0, source=ColumnDataSource(data=pts))\n",
    "\n",
    "\n",
    "show(p)"
   ]
  },
  {
   "cell_type": "markdown",
   "metadata": {},
   "source": [
    "Not sure but I think the basemap is slightly off (as opposed to the points)."
   ]
  }
 ],
 "metadata": {
  "kernelspec": {
   "display_name": "Python 3",
   "language": "python",
   "name": "python3"
  },
  "language_info": {
   "codemirror_mode": {
    "name": "ipython",
    "version": 3
   },
   "file_extension": ".py",
   "mimetype": "text/x-python",
   "name": "python",
   "nbconvert_exporter": "python",
   "pygments_lexer": "ipython3",
   "version": "3.6.6"
  }
 },
 "nbformat": 4,
 "nbformat_minor": 2
}

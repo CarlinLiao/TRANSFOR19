{
 "cells": [
  {
   "cell_type": "markdown",
   "metadata": {},
   "source": [
    "$a$ and $b$ are lists of urls for grabbing Didi Xi'an October and November data, respectively."
   ]
  },
  {
   "cell_type": "code",
   "execution_count": 5,
   "metadata": {},
   "outputs": [],
   "source": [
    "import urllib.request\n",
    "import tarfile"
   ]
  },
  {
   "cell_type": "code",
   "execution_count": 8,
   "metadata": {},
   "outputs": [],
   "source": [
    "for i,url in enumerate(a[:-1]):\n",
    "    name = \"data/tar/10-{}.tar.gz\".format(i+1)\n",
    "    urllib.request.urlretrieve(url,name)\n",
    "    tar = tarfile.open(name)\n",
    "    tar.extractall(path=\"data/\")\n",
    "    tar.close()"
   ]
  },
  {
   "cell_type": "code",
   "execution_count": 11,
   "metadata": {},
   "outputs": [],
   "source": [
    "for i,url in enumerate(b[:-1]):\n",
    "    name = \"data/tar/11-{}.tar.gz\".format(i+1)\n",
    "    urllib.request.urlretrieve(url,name)\n",
    "    tar = tarfile.open(name)\n",
    "    tar.extractall(path=\"data/\")\n",
    "    tar.close()"
   ]
  }
 ],
 "metadata": {
  "kernelspec": {
   "display_name": "Python 3",
   "language": "python",
   "name": "python3"
  },
  "language_info": {
   "codemirror_mode": {
    "name": "ipython",
    "version": 3
   },
   "file_extension": ".py",
   "mimetype": "text/x-python",
   "name": "python",
   "nbconvert_exporter": "python",
   "pygments_lexer": "ipython3",
   "version": "3.6.6"
  }
 },
 "nbformat": 4,
 "nbformat_minor": 2
}
